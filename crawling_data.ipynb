{
 "cells": [
  {
   "cell_type": "code",
   "execution_count": 1,
   "metadata": {},
   "outputs": [],
   "source": [
    "#@title Twitter Auth Token\n",
    "\n",
    "twitter_auth_token = 'd3f14f56adc624f96687771bbeaafc4cbb1dc017'"
   ]
  },
  {
   "cell_type": "code",
   "execution_count": 2,
   "metadata": {},
   "outputs": [
    {
     "name": "stdout",
     "output_type": "stream",
     "text": [
      "Requirement already satisfied: pandas in c:\\users\\user\\appdata\\local\\programs\\python\\python312\\lib\\site-packages (2.2.2)\n",
      "Requirement already satisfied: numpy>=1.26.0 in c:\\users\\user\\appdata\\local\\programs\\python\\python312\\lib\\site-packages (from pandas) (1.26.4)\n",
      "Requirement already satisfied: python-dateutil>=2.8.2 in c:\\users\\user\\appdata\\roaming\\python\\python312\\site-packages (from pandas) (2.9.0.post0)\n",
      "Requirement already satisfied: pytz>=2020.1 in c:\\users\\user\\appdata\\local\\programs\\python\\python312\\lib\\site-packages (from pandas) (2024.1)\n",
      "Requirement already satisfied: tzdata>=2022.7 in c:\\users\\user\\appdata\\local\\programs\\python\\python312\\lib\\site-packages (from pandas) (2024.1)\n",
      "Requirement already satisfied: six>=1.5 in c:\\users\\user\\appdata\\roaming\\python\\python312\\site-packages (from python-dateutil>=2.8.2->pandas) (1.16.0)\n"
     ]
    },
    {
     "name": "stderr",
     "output_type": "stream",
     "text": [
      "'sudo' is not recognized as an internal or external command,\n",
      "operable program or batch file.\n",
      "'sudo' is not recognized as an internal or external command,\n",
      "operable program or batch file.\n",
      "'sudo' is not recognized as an internal or external command,\n",
      "operable program or batch file.\n",
      "'sudo' is not recognized as an internal or external command,\n",
      "operable program or batch file.\n",
      "'NODE_MAJOR' is not recognized as an internal or external command,\n",
      "operable program or batch file.\n",
      "'sudo' is not recognized as an internal or external command,\n",
      "operable program or batch file.\n",
      "'sudo' is not recognized as an internal or external command,\n",
      "operable program or batch file.\n"
     ]
    },
    {
     "name": "stdout",
     "output_type": "stream",
     "text": [
      "v18.20.3\n"
     ]
    }
   ],
   "source": [
    "# Import required Python package\n",
    "!pip install pandas\n",
    "\n",
    "# Install Node.js (because tweet-harvest built using Node.js)\n",
    "!sudo apt-get update\n",
    "!sudo apt-get install -y ca-certificates curl gnupg\n",
    "!sudo mkdir -p /etc/apt/keyrings\n",
    "!curl -fsSL https://deb.nodesource.com/gpgkey/nodesource-repo.gpg.key | sudo gpg --dearmor -o /etc/apt/keyrings/nodesource.gpg\n",
    "\n",
    "!NODE_MAJOR=20 && echo \"deb [signed-by=/etc/apt/keyrings/nodesource.gpg] https://deb.nodesource.com/node_$NODE_MAJOR.x nodistro main\" | sudo tee /etc/apt/sources.list.d/nodesource.list\n",
    "\n",
    "!sudo apt-get update\n",
    "!sudo apt-get install nodejs -y\n",
    "\n",
    "!node -v"
   ]
  },
  {
   "cell_type": "code",
   "execution_count": 6,
   "metadata": {},
   "outputs": [
    {
     "name": "stdout",
     "output_type": "stream",
     "text": [
      "\u001b[1m\u001b[32mTweet Harvest [v2.6.1]\u001b[39m\u001b[22m\n",
      "\u001b[1m\u001b[32m\u001b[39m\u001b[22m\n",
      "\u001b[34mResearch by \u001b[39m\u001b[1m\u001b[34mHelmi Satria\u001b[39m\u001b[22m\u001b[34m\u001b[39m\n",
      "\u001b[34mUse it for Educational Purposes only!\u001b[39m\n",
      "\u001b[34m\u001b[39m\n",
      "\u001b[33mThis script uses Chromium Browser to crawl data from Twitter with \u001b[1myour Twitter auth token\u001b[22m.\u001b[39m\n",
      "\u001b[33mPlease enter your Twitter auth token when prompted.\u001b[39m\n",
      "\u001b[33m\u001b[39m\n",
      "\u001b[31m\u001b[1mNote:\u001b[22m\u001b[39m Keep your access token secret! Don't share it with anyone else.\n",
      "\u001b[31m\u001b[1mNote:\u001b[22m\u001b[39m This script only runs on your local device.\n",
      "\n",
      "\u001b[34m\u001b[39m\n",
      "\u001b[34mOpening twitter search page...\u001b[39m\n",
      "\u001b[34m\u001b[39m\n",
      "\u001b[33m\u001b[39m\n",
      "\u001b[33mFilling in keywords: kualitas udara lang:id since:2021-01-01 until:2023-12-31\u001b[39m\n",
      "\u001b[33m\u001b[39m\n",
      "\u001b[90m\u001b[39m\n",
      "\u001b[90m-- Scrolling... (1)\u001b[39m\u001b[34m\u001b[39m\n",
      "\u001b[34m\u001b[39m\n",
      "\u001b[34mYour tweets saved to: c:\\Users\\User\\Downloads\\kualitas udara\\tweets-data\\kualitas_udara.csv\u001b[39m\n",
      "\u001b[33mTotal tweets saved: 13\u001b[39m\n",
      "\u001b[90m\u001b[39m\n",
      "\u001b[90m-- Scrolling... (1)\u001b[39m\u001b[34m\u001b[39m\n",
      "\u001b[34m\u001b[39m\n",
      "\u001b[34mYour tweets saved to: c:\\Users\\User\\Downloads\\kualitas udara\\tweets-data\\kualitas_udara.csv\u001b[39m\n",
      "\u001b[33mTotal tweets saved: 26\u001b[39m\n",
      "\u001b[34m\u001b[39m\n",
      "\u001b[34m\u001b[39m\n",
      "\u001b[34mYour tweets saved to: c:\\Users\\User\\Downloads\\kualitas udara\\tweets-data\\kualitas_udara.csv\u001b[39m\n",
      "\u001b[33mTotal tweets saved: 36\u001b[39m\n",
      "\u001b[34m\u001b[39m\n",
      "\u001b[34m\u001b[39m\n",
      "\u001b[34mYour tweets saved to: c:\\Users\\User\\Downloads\\kualitas udara\\tweets-data\\kualitas_udara.csv\u001b[39m\n",
      "\u001b[33mTotal tweets saved: 53\u001b[39m\n",
      "\u001b[90m\u001b[39m\n",
      "\u001b[90m-- Scrolling... (1)\u001b[39m\u001b[34m\u001b[39m\n",
      "\u001b[34m\u001b[39m\n",
      "\u001b[34mYour tweets saved to: c:\\Users\\User\\Downloads\\kualitas udara\\tweets-data\\kualitas_udara.csv\u001b[39m\n",
      "\u001b[33mTotal tweets saved: 67\u001b[39m\n",
      "\u001b[90m\u001b[39m\n",
      "\u001b[90m-- Scrolling... (1)\u001b[39m\u001b[34m\u001b[39m\n",
      "\u001b[34m\u001b[39m\n",
      "\u001b[34mYour tweets saved to: c:\\Users\\User\\Downloads\\kualitas udara\\tweets-data\\kualitas_udara.csv\u001b[39m\n",
      "\u001b[33mTotal tweets saved: 82\u001b[39m\n",
      "\u001b[34m\u001b[39m\n",
      "\u001b[34m\u001b[39m\n",
      "\u001b[34mYour tweets saved to: c:\\Users\\User\\Downloads\\kualitas udara\\tweets-data\\kualitas_udara.csv\u001b[39m\n",
      "\u001b[33mTotal tweets saved: 96\u001b[39m\n",
      "\u001b[90m\u001b[39m\n",
      "\u001b[90m-- Scrolling... (1)\u001b[39m\u001b[34m\u001b[39m\n",
      "\u001b[34m\u001b[39m\n",
      "\u001b[34mYour tweets saved to: c:\\Users\\User\\Downloads\\kualitas udara\\tweets-data\\kualitas_udara.csv\u001b[39m\n",
      "\u001b[33mTotal tweets saved: 114\u001b[39m\n",
      "\u001b[90m\u001b[39m\n",
      "\u001b[90m--Taking a break, waiting for 10 seconds...\u001b[39m\n",
      "\u001b[34m\u001b[39m\n",
      "\u001b[34m\u001b[39m\n",
      "\u001b[34mYour tweets saved to: c:\\Users\\User\\Downloads\\kualitas udara\\tweets-data\\kualitas_udara.csv\u001b[39m\n",
      "\u001b[33mTotal tweets saved: 132\u001b[39m\n",
      "\u001b[90m\u001b[39m\n",
      "\u001b[90m-- Scrolling... (1)\u001b[39m\u001b[34m\u001b[39m\n",
      "\u001b[34m\u001b[39m\n",
      "\u001b[34mYour tweets saved to: c:\\Users\\User\\Downloads\\kualitas udara\\tweets-data\\kualitas_udara.csv\u001b[39m\n",
      "\u001b[33mTotal tweets saved: 145\u001b[39m\n",
      "\u001b[90m\u001b[39m\n",
      "\u001b[90m-- Scrolling... (1)\u001b[39m\u001b[90m (2)\u001b[39m\u001b[90m (3)\u001b[39m\u001b[34m\u001b[39m\n",
      "\u001b[34m\u001b[39m\n",
      "\u001b[34mYour tweets saved to: c:\\Users\\User\\Downloads\\kualitas udara\\tweets-data\\kualitas_udara.csv\u001b[39m\n",
      "\u001b[33mTotal tweets saved: 164\u001b[39m\n",
      "\u001b[90m\u001b[39m\n",
      "\u001b[90m-- Scrolling... (1)\u001b[39m\u001b[34m\u001b[39m\n",
      "\u001b[34m\u001b[39m\n",
      "\u001b[34mYour tweets saved to: c:\\Users\\User\\Downloads\\kualitas udara\\tweets-data\\kualitas_udara.csv\u001b[39m\n",
      "\u001b[33mTotal tweets saved: 182\u001b[39m\n",
      "\u001b[90m\u001b[39m\n",
      "\u001b[90m-- Scrolling... (1)\u001b[39m\u001b[34mKeywords: kualitas udara lang:id since:2021-01-01 until:2023-12-31\u001b[39m\n",
      "\u001b[93mTwitter Harvest v 2.6.1\u001b[39m\n",
      "\u001b[31m\u001b[39m\n",
      "\u001b[31mIf you need help, please send this error screenshot to the maintainer, it was saved to \"c:\\Users\\User\\Downloads\\kualitas udara\\tweets-data\\Error-09-07-2024_22-31-34.png\"\u001b[39m\n"
     ]
    },
    {
     "name": "stderr",
     "output_type": "stream",
     "text": [
      "\u001b[90m[v2.6.1]\u001b[39m Error parsing response json: {\"_type\":\"Response\",\"_guid\":\"response@22d7b152be651762268a0f5390ecea7e\"}\n",
      "\u001b[90m[v2.6.1]\u001b[39m Most likely, you have already exceeded the Twitter rate limit. Read more on https://x.com/elonmusk/status/1675187969420828672.\n",
      "\u001b[90m[v2.6.1]\u001b[39m TimeoutError: page.click: Timeout 60000ms exceeded.\n",
      "Call log:\n",
      "  \u001b[2m- waiting for locator('text=Retry')\u001b[22m\n",
      "\n"
     ]
    }
   ],
   "source": [
    "filename = 'air_quality_english.csv'\n",
    "search_keyword = 'air quality lang:en since:2021-01-01 until:2024-07-10'\n",
    "limit = 500\n",
    "\n",
    "!npx -y tweet-harvest -o \"{filename}\" -s \"{search_keyword}\" --tab \"LATEST\" -l {limit} --token {twitter_auth_token}"
   ]
  }
 ],
 "metadata": {
  "kernelspec": {
   "display_name": "Python 3",
   "language": "python",
   "name": "python3"
  },
  "language_info": {
   "codemirror_mode": {
    "name": "ipython",
    "version": 3
   },
   "file_extension": ".py",
   "mimetype": "text/x-python",
   "name": "python",
   "nbconvert_exporter": "python",
   "pygments_lexer": "ipython3",
   "version": "3.12.4"
  }
 },
 "nbformat": 4,
 "nbformat_minor": 2
}
